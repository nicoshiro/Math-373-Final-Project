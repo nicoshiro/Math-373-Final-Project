{
  "nbformat": 4,
  "nbformat_minor": 0,
  "metadata": {
    "colab": {
      "name": "373_Oshiro_Final_Project.ipynb",
      "version": "0.3.2",
      "provenance": [],
      "collapsed_sections": []
    },
    "kernelspec": {
      "name": "python3",
      "display_name": "Python 3"
    }
  },
  "cells": [
    {
      "cell_type": "code",
      "metadata": {
        "id": "S9MB-Kcre9TC",
        "colab_type": "code",
        "colab": {}
      },
      "source": [
        "import numpy as np\n",
        "import pandas as pd\n",
        "import sklearn as sk\n",
        "import sklearn.model_selection\n",
        "import sklearn.linear_model\n",
        "from sklearn import metrics\n",
        "from sklearn.svm import SVC\n",
        "from sklearn.neighbors import KNeighborsClassifier \n",
        "import matplotlib.pyplot as plt\n",
        "import multiclassLogReg as mcl\n",
        "import tensorflow\n",
        "from tensorflow.keras import models\n",
        "from tensorflow.keras import layers"
      ],
      "execution_count": 0,
      "outputs": []
    },
    {
      "cell_type": "code",
      "metadata": {
        "id": "BZ00rxCg8yeF",
        "colab_type": "code",
        "colab": {}
      },
      "source": [
        "# Import the fifa_processed_FINAL.csv and multiClassLogReg.py file here.\n",
        "from google.colab import files\n",
        "uploaded = files.upload()"
      ],
      "execution_count": 0,
      "outputs": []
    },
    {
      "cell_type": "markdown",
      "metadata": {
        "id": "rvI0JH2I1-Z6",
        "colab_type": "text"
      },
      "source": [
        "\n",
        "# Final Project by Nicolas Oshiro\n",
        "## Introduction\n",
        "\n",
        "For my final project, I chose to evaluate a dataset from Kaggle and attempted many different classification algorithms that we learned in the class to see which one works best on this specific dataset. \n",
        "\n",
        "## Data and Processing\n",
        "\n",
        "The dataset I chose is a collection of all the player statistics from the popular video game FIFA by EA Sports. The data can be found [here](https://www.kaggle.com/karangadiya/fifa19). Taking a look at the raw data we can see that it contains 18,207 rows and 89 columns. Each row is a player and the columns contain player attributes (name, age, club, nationality, etc.) as well as their skill ratings on a scale of 0 to 100 for various categories (Crossing, Finishing, Marking, etc.). I am interested to see if I could use these skill attributes to predict the position of a player.\n",
        "\n",
        "I processed the data in R and the file can be found [here](https://github.com/nicoshiro/Math-373-Final-Project/blob/master/fifa_processing.R). I first removed all of the Goal Keepers from the dataset because they would skew the data since they do not play a traditional position. I also removed players that had null values for their position. Next, I subsetted the data to only include the skill attributes that I mentioned before. Lastly, the dataset included a wide range of positions that I simplified into 3 basic categories, Forward, Midfielder, and Defender. In order to run the algorithms properly I encoded the 3 main positions with numbers, 1 being Defender, 2 being Midfielder, and 3 being Forward. With this dataset I began to use the different classification algorithms to see if I could classify these players into the correct position category."
      ]
    },
    {
      "cell_type": "markdown",
      "metadata": {
        "id": "BTP25Uvu5-Mb",
        "colab_type": "text"
      },
      "source": [
        "These are functions that run in the FIFA dataset. The load_fifa() function reads in the data and extracts the feature vectors, X, and the classes, Y. The load_fifa_one_hot() function similarly reads in the data and extracts the feature vectors, X, but it extracts the classes and then one hot encodes them."
      ]
    },
    {
      "cell_type": "code",
      "metadata": {
        "id": "Q_W_0xrRfQtN",
        "colab_type": "code",
        "colab": {}
      },
      "source": [
        "def load_fifa():\n",
        "    \n",
        "    data = pd.read_csv(\"fifa_processed.csv\")\n",
        "    Y = data['SimplePositionNum']\n",
        "    data = data.drop('SimplePositionNum',axis = 1)\n",
        "    \n",
        "    X = data.values\n",
        "    numExamples = X.shape[0]\n",
        "    allOnes = np.ones((numExamples,1))\n",
        "    X = np.concatenate((X,allOnes),axis = 1)\n",
        "    \n",
        "    return (X,Y)\n",
        "\n",
        "def load_fifa_one_hot():\n",
        "    \n",
        "    data = pd.read_csv(\"fifa_processed.csv\")\n",
        "    oneHot = pd.get_dummies(data['SimplePositionNum'])\n",
        "    data = data.drop('SimplePositionNum',axis = 1)\n",
        "    \n",
        "    X = data.values\n",
        "    Y = oneHot.values\n",
        "    numExamples = X.shape[0]\n",
        "    allOnes = np.ones((numExamples,1))\n",
        "    X = np.concatenate((X,allOnes),axis = 1)\n",
        "    \n",
        "    return (X,Y)"
      ],
      "execution_count": 0,
      "outputs": []
    },
    {
      "cell_type": "markdown",
      "metadata": {
        "id": "x7PTH9fz-KQt",
        "colab_type": "text"
      },
      "source": [
        "## Multiclass Logistic Regression\n",
        "\n",
        "I started off by using Multiclass Logistic Regression to try and classify the data. My first attempt at MLR uses the function that I built for Project 3. I opted to use stochastic gradient descent instead of normal gradient descent because it ran faster on the dataset. The following code reads in the data, estimates the betas, and plots the costs of each epoch."
      ]
    },
    {
      "cell_type": "code",
      "metadata": {
        "id": "WS4yF7_R8Roj",
        "colab_type": "code",
        "colab": {}
      },
      "source": [
        "%%capture\n",
        "# Read in and process the data\n",
        "X, Y = load_fifa_one_hot()\n",
        "X_train, X_test, Y_train, Y_test = sk.model_selection.train_test_split(X, Y, test_size = .35)\n",
        "numExam, numFeat = X_train.shape\n",
        "numExam, numClasses = Y_train.shape\n",
        "beta = np.random.randn(numFeat, numClasses)\n",
        "\n",
        "# Create model using stochastic gradient descent and the training data\n",
        "(beta, costs) = mcl.multiclassLogReg_SGD(X_train, Y_train, .0001)"
      ],
      "execution_count": 0,
      "outputs": []
    },
    {
      "cell_type": "code",
      "metadata": {
        "id": "IGDl4yca_dyA",
        "colab_type": "code",
        "colab": {
          "base_uri": "https://localhost:8080/",
          "height": 34
        },
        "outputId": "b397f788-d544-4a6b-a916-a810e12d2b98"
      },
      "source": [
        "# Process test data\n",
        "numExamples, numFeatures = X_test.shape\n",
        "\n",
        "# Determine the amount of examples the function correctly assigned\n",
        "numCorrect = 0\n",
        "for i in range(numExamples):\n",
        "    xi = X_test[i,:]\n",
        "    yi = Y_test[i]\n",
        "    \n",
        "    dotProds = xi @ beta\n",
        "    terms = np.exp(dotProds)\n",
        "    probs = terms/np.sum(terms)\n",
        "    \n",
        "    k = np.argmax(probs)\n",
        "    if yi[k] == 1:\n",
        "        numCorrect += 1\n",
        "\n",
        "ratio = numCorrect/numExamples\n",
        "print(\"Accuracy: \" + str(ratio))"
      ],
      "execution_count": 55,
      "outputs": [
        {
          "output_type": "stream",
          "text": [
            "Accuracy: 0.8545100124047492\n"
          ],
          "name": "stdout"
        }
      ]
    },
    {
      "cell_type": "markdown",
      "metadata": {
        "id": "IGVHvhh2_pdP",
        "colab_type": "text"
      },
      "source": [
        "As we can see, this algorithm outputs a fairly descent accuracy, but if we take a look at the costs we can see that they do not get smaller with each epoch."
      ]
    },
    {
      "cell_type": "code",
      "metadata": {
        "id": "SFqn0PZd_4Dy",
        "colab_type": "code",
        "colab": {
          "base_uri": "https://localhost:8080/",
          "height": 298
        },
        "outputId": "686062c8-4ab5-428f-b076-30e8ad710a58"
      },
      "source": [
        "# Plot the costs\n",
        "plt.figure\n",
        "plt.semilogy(costs)\n",
        "plt.title(\"Costs of Multi Class Logisitic Regression\")"
      ],
      "execution_count": 56,
      "outputs": [
        {
          "output_type": "execute_result",
          "data": {
            "text/plain": [
              "Text(0.5, 1.0, 'Costs of Multi Class Logisitic Regression')"
            ]
          },
          "metadata": {
            "tags": []
          },
          "execution_count": 56
        },
        {
          "output_type": "display_data",
          "data": {
            "image/png": "[encoded data removed]",
            "text/plain": [
              "<Figure size 432x288 with 1 Axes>"
            ]
          },
          "metadata": {
            "tags": []
          }
        }
      ]
    },
    {
      "cell_type": "markdown",
      "metadata": {
        "id": "jgLHC1xc_92W",
        "colab_type": "text"
      },
      "source": [
        "A consequence of this is the model outputs very different accuracies each time it is run so in an attempt to mitigate this fact I ran the model 10 different times and took the average accuracy from the 10 attempts."
      ]
    },
    {
      "cell_type": "code",
      "metadata": {
        "id": "QbuDwLVTAPod",
        "colab_type": "code",
        "colab": {}
      },
      "source": [
        "%%capture\n",
        "average_accuracy = 0\n",
        "iters = 10\n",
        "\n",
        "for i in range(iters):\n",
        "  # Read in and process the data\n",
        "  X, Y = load_fifa_one_hot()\n",
        "  X_train, X_test, Y_train, Y_test = sk.model_selection.train_test_split(X, Y, test_size = .35)\n",
        "  numExam, numFeat = X_train.shape\n",
        "  numExam, numClasses = Y_train.shape\n",
        "  beta = np.random.randn(numFeat, numClasses)\n",
        "\n",
        "  # Create model using stochastic gradient descent and the training data\n",
        "  (beta, costs) = mcl.multiclassLogReg_SGD(X_train, Y_train, .0001)\n",
        "  \n",
        "  # Process test data\n",
        "  numExamples, numFeatures = X_test.shape\n",
        "\n",
        "  # Determine the amount of examples the function correctly assigned\n",
        "  numCorrect = 0\n",
        "  for i in range(numExamples):\n",
        "      xi = X_test[i,:]\n",
        "      yi = Y_test[i]\n",
        "\n",
        "      dotProds = xi @ beta\n",
        "      terms = np.exp(dotProds)\n",
        "      probs = terms/np.sum(terms)\n",
        "\n",
        "      k = np.argmax(probs)\n",
        "      if yi[k] == 1:\n",
        "          numCorrect += 1\n",
        "          \n",
        "  ratio = numCorrect/numExamples\n",
        "  average_accuracy += ratio\n",
        "\n",
        "average_accuracy = average_accuracy / iters"
      ],
      "execution_count": 0,
      "outputs": []
    },
    {
      "cell_type": "code",
      "metadata": {
        "id": "PYUDUuLZA3CC",
        "colab_type": "code",
        "colab": {
          "base_uri": "https://localhost:8080/",
          "height": 34
        },
        "outputId": "47fffd1d-a589-4151-85fb-a1a3da0450c1"
      },
      "source": [
        "average_accuracy = average_accuracy / iters\n",
        "print('Average Accuracy: ' + str(average_accuracy))"
      ],
      "execution_count": 66,
      "outputs": [
        {
          "output_type": "stream",
          "text": [
            "Average Accuracy: 0.007664717348927877\n"
          ],
          "name": "stdout"
        }
      ]
    },
    {
      "cell_type": "markdown",
      "metadata": {
        "id": "d80FcUVRCmLF",
        "colab_type": "text"
      },
      "source": [
        "We can see that the average accuracy ends up somewhere around 75 and 80 percent which is not ideal. Now, I wanted to take a look at the Multiclass Logisitic Regression function in scikitlearn to see if it produced better results. Similar to the last example, and in all following examples, I took an average of 10 outcomes of the model to try and provide a more accurate represenation of the model."
      ]
    },
    {
      "cell_type": "code",
      "metadata": {
        "id": "gLzFkskpDNbI",
        "colab_type": "code",
        "colab": {
          "base_uri": "https://localhost:8080/",
          "height": 34
        },
        "outputId": "98e2900d-4a3f-4f0e-9c2e-71f7b512b306"
      },
      "source": [
        "# Read in data\n",
        "X, Y = load_fifa()\n",
        "X_train, X_test, Y_train, Y_test = sk.model_selection.train_test_split(X, Y, test_size = .35)\n",
        "\n",
        "average_accuracy = 0\n",
        "iters = 10\n",
        "for i in range(iters):\n",
        "    # Create model with newton-cg optimizer and 10000 iterations\n",
        "    model = sk.linear_model.LogisticRegression(solver = 'newton-cg', multi_class = 'multinomial', max_iter = 10000)\n",
        "    model.fit(X_train, Y_train) \n",
        "    y_pred = model.predict(X_test)   \n",
        "    accuracy = metrics.accuracy_score(Y_test, y_pred)  \n",
        "    average_accuracy += accuracy\n",
        "\n",
        "average_accuracy = average_accuracy / iters   \n",
        "print('Average Accuracy: ' + str(average_accuracy))"
      ],
      "execution_count": 67,
      "outputs": [
        {
          "output_type": "stream",
          "text": [
            "Average Accuracy: 0.8610668084352293\n"
          ],
          "name": "stdout"
        }
      ]
    },
    {
      "cell_type": "markdown",
      "metadata": {
        "id": "iCwU-U7VEJIO",
        "colab_type": "text"
      },
      "source": [
        "This model does a little better and outputs an average accuracy of around 85%. Next, I will take a look at a keras neural network classifier to see how it stacks up against Multiclass Logistic Regression."
      ]
    },
    {
      "cell_type": "markdown",
      "metadata": {
        "id": "VCbsEabRFVmR",
        "colab_type": "text"
      },
      "source": [
        "## Neural Network Classifier\n",
        "\n",
        "I am using the keras package from tensorflow to build a neural network to classify the data. After testing multiple neural network structures I found this structure to perform the best."
      ]
    },
    {
      "cell_type": "code",
      "metadata": {
        "id": "dIbKsxuXfTGX",
        "colab_type": "code",
        "colab": {}
      },
      "source": [
        "X, Y = load_fifa_one_hot()\n",
        "X_train, X_test, Y_train, Y_test = sk.model_selection.train_test_split(X, Y, test_size = .35)\n",
        "numExamples, numFeatures = X_test.shape\n",
        "\n",
        "network = models.Sequential()\n",
        "network.add(layers.Dense(32,activation = 'relu',))\n",
        "network.add(layers.Dense(3, activation = 'softmax'))\n",
        "\n",
        "network.compile(optimizer = 'rmsprop', loss = 'categorical_crossentropy',\\\n",
        "                metrics = ['accuracy'])"
      ],
      "execution_count": 0,
      "outputs": []
    },
    {
      "cell_type": "code",
      "metadata": {
        "id": "M32bYIWvfXQn",
        "colab_type": "code",
        "colab": {}
      },
      "source": [
        "%%capture\n",
        "average_accuracy = 0\n",
        "iters = 10\n",
        "\n",
        "# Run the model 10 times and compute average accuracy\n",
        "for i in range(iters):\n",
        "  \n",
        "  network.fit(X_train,Y_train, epochs = 50, batch_size = 128)\n",
        "  test_loss, test_acc = network.evaluate(X_test,Y_test)\n",
        "  \n",
        "average_accuracy += test_acc\n",
        "\n",
        "average_accuracy = average_accuracy/iters"
      ],
      "execution_count": 0,
      "outputs": []
    },
    {
      "cell_type": "code",
      "metadata": {
        "id": "G8-fW9TUFHzQ",
        "colab_type": "code",
        "colab": {
          "base_uri": "https://localhost:8080/",
          "height": 34
        },
        "outputId": "90cb29cb-c88a-4062-b5f4-eb9762cff566"
      },
      "source": [
        "print('Average Accuracy: ' + str(test_acc))"
      ],
      "execution_count": 85,
      "outputs": [
        {
          "output_type": "stream",
          "text": [
            "Average Accuracy: 0.8630161\n"
          ],
          "name": "stdout"
        }
      ]
    },
    {
      "cell_type": "markdown",
      "metadata": {
        "id": "q5wCjlk6GVLv",
        "colab_type": "text"
      },
      "source": [
        "This model outputs something similar to the Multiclass Logistic Regression function with an average accuracy of somewhere around 85% - 87%. The next method I will attempt is Support Vector Machines."
      ]
    },
    {
      "cell_type": "markdown",
      "metadata": {
        "id": "bdY_RXZAG-VM",
        "colab_type": "text"
      },
      "source": [
        "## Support Vector Machines\n",
        "\n",
        "In class we talked about Support Vector Machines as a binary classifying algorithm, but when I was doing research for this project I found that scikit learn supports mulitclass classification for SVMs. For this examples, I extract the first 5000 examples because using the entire dataset took too long for this method."
      ]
    },
    {
      "cell_type": "code",
      "metadata": {
        "id": "maYuH2vJz0Ym",
        "colab_type": "code",
        "outputId": "b8159bc6-c597-4e06-f32b-49fe411b9665",
        "colab": {
          "base_uri": "https://localhost:8080/",
          "height": 34
        }
      },
      "source": [
        "# Load and process the data\n",
        "X, Y = load_fifa()\n",
        "X = X[0:5000,:]\n",
        "Y = Y[0:5000,]\n",
        "X_train, X_test, Y_train, Y_test = sk.model_selection.train_test_split(X, Y, test_size = .35)\n",
        "Y_test = Y_test.values\n",
        "\n",
        "# Create the SVC model\n",
        "svm_model_linear = SVC(kernel = 'linear', C = 1).fit(X_train, Y_train) \n",
        "svm_predictions = svm_model_linear.predict(X_test) \n",
        "  \n",
        "# Calculate model accuracy\n",
        "accuracy = svm_model_linear.score(X_test, Y_test) \n",
        "  \n",
        "accuracy"
      ],
      "execution_count": 88,
      "outputs": [
        {
          "output_type": "execute_result",
          "data": {
            "text/plain": [
              "0.8668571428571429"
            ]
          },
          "metadata": {
            "tags": []
          },
          "execution_count": 88
        }
      ]
    },
    {
      "cell_type": "markdown",
      "metadata": {
        "id": "RHK4kr2LIhJg",
        "colab_type": "text"
      },
      "source": [
        "Unsurprisingly, this method does a about the same as the previous ones by consistently outputting an accuracy of around 86% - 87%. "
      ]
    },
    {
      "cell_type": "markdown",
      "metadata": {
        "id": "O_wBtQUbIyNY",
        "colab_type": "text"
      },
      "source": [
        "## K-Nearest Neighbors Classifier\n",
        "\n",
        "K-Nearest Neighbors is an algorithm that we discussed in class, but we didn't dive into or code from scratch. This algorithm is interesting because it outputs the same thing for the same number of nearest neighbors. In order to try and find the optimal number of nearest neighbors I ran this algorithm with up to 20 nearest neighbors and extracted the best accuracy."
      ]
    },
    {
      "cell_type": "code",
      "metadata": {
        "id": "5L0HPZogg1y7",
        "colab_type": "code",
        "outputId": "27642b6f-1e10-4322-f636-37bbd5aafb46",
        "colab": {
          "base_uri": "https://localhost:8080/",
          "height": 51
        }
      },
      "source": [
        "# Load and process the data\n",
        "X, Y = load_fifa()\n",
        "X_train, X_test, Y_train, Y_test = sk.model_selection.train_test_split(X, Y, test_size = .35)\n",
        "Y_test = Y_test.values\n",
        "best_accuracy = 0\n",
        "best_neighbors = 0\n",
        "iters = 20\n",
        "\n",
        "# Train the model to find optimal nearest neighbors\n",
        "for i in range(1, iters):\n",
        "  knn = KNeighborsClassifier(n_neighbors = i).fit(X_train, Y_train)\n",
        "  accuracy = knn.score(X_test, Y_test)\n",
        "  if accuracy > best_accuracy:\n",
        "    best_accuracy = accuracy\n",
        "    best_neighbors = i\n",
        "  \n",
        "print(\"Optimal neighbors: \" + str(best_neighbors))\n",
        "print(\"Accuracy: \" + str(accuracy))"
      ],
      "execution_count": 98,
      "outputs": [
        {
          "output_type": "stream",
          "text": [
            "Optimal neighbors: 17\n",
            "Accuracy: 0.86\n"
          ],
          "name": "stdout"
        }
      ]
    },
    {
      "cell_type": "markdown",
      "metadata": {
        "id": "2RgGtngjL-Yb",
        "colab_type": "text"
      },
      "source": [
        "The optimal number of neighbors is 17 and outputs an accuracy of 86%."
      ]
    },
    {
      "cell_type": "markdown",
      "metadata": {
        "id": "yVDIPk1SMEnO",
        "colab_type": "text"
      },
      "source": [
        "## Conclusion\n",
        "\n",
        "Unfortunately, the results of this project are a little bit boring, but for this dataset all of the classifiers have a similar output maxing out at around 87%. This could potentially be because some players are categorized as a midfielder, but they have a more defensive style of play or attacking style of play. Nevertheless, 87% is not a terrible clasification rate, but it could definitely be improved. For future research on this topic I would be interested to see how well these algorithms perform by attempting to classify the players into the original position types. It would also be interesting to see if you could create a model that cluster players into \"new\" position types based on their statistics."
      ]
    }
  ]
}